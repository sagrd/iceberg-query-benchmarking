{
 "cells": [
  {
   "cell_type": "code",
   "execution_count": 1,
   "id": "98250ad5",
   "metadata": {},
   "outputs": [
    {
     "name": "stdout",
     "output_type": "stream",
     "text": [
      ":: loading settings :: url = jar:file:/home/docker/.local/lib/python3.10/site-packages/pyspark/jars/ivy-2.5.0.jar!/org/apache/ivy/core/settings/ivysettings.xml\n"
     ]
    },
    {
     "name": "stderr",
     "output_type": "stream",
     "text": [
      "Ivy Default Cache set to: /home/docker/.ivy2/cache\n",
      "The jars for the packages stored in: /home/docker/.ivy2/jars\n",
      "org.apache.iceberg#iceberg-spark-runtime-3.3_2.12 added as a dependency\n",
      "org.projectnessie.nessie-integrations#nessie-spark-extensions-3.3_2.12 added as a dependency\n",
      "software.amazon.awssdk#bundle added as a dependency\n",
      "software.amazon.awssdk#url-connection-client added as a dependency\n",
      ":: resolving dependencies :: org.apache.spark#spark-submit-parent-667e253e-9c4c-4f8d-a65e-f2c9cd6e5ce7;1.0\n",
      "\tconfs: [default]\n",
      "\tfound org.apache.iceberg#iceberg-spark-runtime-3.3_2.12;1.3.1 in central\n",
      "\tfound org.projectnessie.nessie-integrations#nessie-spark-extensions-3.3_2.12;0.67.0 in central\n",
      "\tfound software.amazon.awssdk#bundle;2.17.178 in central\n",
      "\tfound software.amazon.eventstream#eventstream;1.0.1 in central\n",
      "\tfound software.amazon.awssdk#url-connection-client;2.17.178 in central\n",
      "\tfound software.amazon.awssdk#utils;2.17.178 in central\n",
      "\tfound org.reactivestreams#reactive-streams;1.0.3 in central\n",
      "\tfound software.amazon.awssdk#annotations;2.17.178 in central\n",
      "\tfound org.slf4j#slf4j-api;1.7.30 in central\n",
      "\tfound software.amazon.awssdk#http-client-spi;2.17.178 in central\n",
      "\tfound software.amazon.awssdk#metrics-spi;2.17.178 in central\n",
      ":: resolution report :: resolve 1039ms :: artifacts dl 41ms\n",
      "\t:: modules in use:\n",
      "\torg.apache.iceberg#iceberg-spark-runtime-3.3_2.12;1.3.1 from central in [default]\n",
      "\torg.projectnessie.nessie-integrations#nessie-spark-extensions-3.3_2.12;0.67.0 from central in [default]\n",
      "\torg.reactivestreams#reactive-streams;1.0.3 from central in [default]\n",
      "\torg.slf4j#slf4j-api;1.7.30 from central in [default]\n",
      "\tsoftware.amazon.awssdk#annotations;2.17.178 from central in [default]\n",
      "\tsoftware.amazon.awssdk#bundle;2.17.178 from central in [default]\n",
      "\tsoftware.amazon.awssdk#http-client-spi;2.17.178 from central in [default]\n",
      "\tsoftware.amazon.awssdk#metrics-spi;2.17.178 from central in [default]\n",
      "\tsoftware.amazon.awssdk#url-connection-client;2.17.178 from central in [default]\n",
      "\tsoftware.amazon.awssdk#utils;2.17.178 from central in [default]\n",
      "\tsoftware.amazon.eventstream#eventstream;1.0.1 from central in [default]\n",
      "\t---------------------------------------------------------------------\n",
      "\t|                  |            modules            ||   artifacts   |\n",
      "\t|       conf       | number| search|dwnlded|evicted|| number|dwnlded|\n",
      "\t---------------------------------------------------------------------\n",
      "\t|      default     |   11  |   0   |   0   |   0   ||   11  |   0   |\n",
      "\t---------------------------------------------------------------------\n",
      ":: retrieving :: org.apache.spark#spark-submit-parent-667e253e-9c4c-4f8d-a65e-f2c9cd6e5ce7\n",
      "\tconfs: [default]\n",
      "\t0 artifacts copied, 11 already retrieved (0kB/20ms)\n"
     ]
    },
    {
     "name": "stdout",
     "output_type": "stream",
     "text": [
      "24/12/18 15:12:33 WARN NativeCodeLoader: Unable to load native-hadoop library for your platform... using builtin-java classes where applicable\n"
     ]
    },
    {
     "name": "stderr",
     "output_type": "stream",
     "text": [
      "Setting default log level to \"WARN\".\n",
      "To adjust logging level use sc.setLogLevel(newLevel). For SparkR, use setLogLevel(newLevel).\n"
     ]
    },
    {
     "name": "stdout",
     "output_type": "stream",
     "text": [
      "Spark Running\n"
     ]
    }
   ],
   "source": [
    "import pyspark\n",
    "import pyspark\n",
    "from pyspark.sql import SparkSession\n",
    "import os\n",
    "import time\n",
    "\n",
    "## DEFINE SENSITIVE VARIABLES\n",
    "NESSIE_URI = \"http://nessie:19120/api/v1\"\n",
    "MINIO_ACCESS_KEY = \"admin\"\n",
    "MINIO_SECRET_KEY = \"password\"\n",
    "\n",
    "conf = (\n",
    "    pyspark.SparkConf()\n",
    "        .setAppName('app_name')\n",
    "  \t\t#packages\n",
    "        .set('spark.jars.packages', 'org.apache.iceberg:iceberg-spark-runtime-3.3_2.12:1.3.1,org.projectnessie.nessie-integrations:nessie-spark-extensions-3.3_2.12:0.67.0,software.amazon.awssdk:bundle:2.17.178,software.amazon.awssdk:url-connection-client:2.17.178')\n",
    "  \t\t#SQL Extensions\n",
    "        .set('spark.sql.extensions', 'org.apache.iceberg.spark.extensions.IcebergSparkSessionExtensions,org.projectnessie.spark.extensions.NessieSparkSessionExtensions')\n",
    "  \t\t#Configuring Catalog\n",
    "        .set('spark.sql.catalog.nessie', 'org.apache.iceberg.spark.SparkCatalog')\n",
    "        .set('spark.sql.catalog.nessie.uri', NESSIE_URI)\n",
    "        .set('spark.sql.catalog.nessie.ref', 'main')\n",
    "        .set('spark.sql.catalog.nessie.authentication.type', 'NONE')\n",
    "        .set('spark.sql.catalog.nessie.catalog-impl', 'org.apache.iceberg.nessie.NessieCatalog')\n",
    "        .set('spark.sql.catalog.nessie.warehouse', 's3a://warehouse')\n",
    "        .set('spark.sql.catalog.nessie.s3.endpoint', 'http://minio:9000')\n",
    "        .set('spark.sql.catalog.nessie.io-impl', 'org.apache.iceberg.aws.s3.S3FileIO')\n",
    "  \t\t#MINIO CREDENTIALS\n",
    "        .set('spark.hadoop.fs.s3a.access.key', MINIO_ACCESS_KEY)\n",
    "        .set('spark.hadoop.fs.s3a.secret.key', MINIO_SECRET_KEY)\n",
    ")\n",
    "\n",
    "## Start Spark Session\n",
    "spark = SparkSession.builder.config(conf=conf).getOrCreate()\n",
    "print(\"Spark Running\")\n"
   ]
  },
  {
   "cell_type": "markdown",
   "id": "836d6e58",
   "metadata": {},
   "source": [
    "### Create Schema and Temp View for the CSV File"
   ]
  },
  {
   "cell_type": "code",
   "execution_count": 2,
   "id": "b8b3592c",
   "metadata": {},
   "outputs": [
    {
     "data": {
      "text/plain": [
       "DataFrame[]"
      ]
     },
     "execution_count": 2,
     "metadata": {},
     "output_type": "execute_result"
    }
   ],
   "source": [
    "spark.sql(\"CREATE DATABASE IF NOT EXISTS nessie.towers_schema;\")"
   ]
  },
  {
   "cell_type": "code",
   "execution_count": 3,
   "id": "c1145998",
   "metadata": {},
   "outputs": [],
   "source": [
    "from pyspark.sql.types import *\n",
    "\n",
    "# Define schema\n",
    "schema = StructType([\n",
    "    StructField(\"_c0\", IntegerType(), True),\n",
    "    StructField(\"radio\", StringType(), True),\n",
    "    StructField(\"MCC\", IntegerType(), True),\n",
    "    StructField(\"MNC\", IntegerType(), True),\n",
    "    StructField(\"TAC\", IntegerType(), True),\n",
    "    StructField(\"CID\", LongType(), True),  # BigInt\n",
    "    StructField(\"unit\", IntegerType(), True),\n",
    "    StructField(\"LON\", DoubleType(), True),\n",
    "    StructField(\"LAT\", DoubleType(), True),\n",
    "    StructField(\"RANGE\", IntegerType(), True),\n",
    "    StructField(\"SAM\", IntegerType(), True),\n",
    "    StructField(\"changeable\", IntegerType(), True),\n",
    "    StructField(\"created\", LongType(), True),\n",
    "    StructField(\"updated\", LongType(), True),\n",
    "    StructField(\"averageSignal\", IntegerType(), True),\n",
    "    StructField(\"Country\", StringType(), True),\n",
    "    StructField(\"Network\", StringType(), True),\n",
    "    StructField(\"Continent\", StringType(), True),\n",
    "])\n",
    "\n",
    "# Read CSV with defined schema\n",
    "csv_df = spark.read.format(\"csv\").option(\"header\", \"true\").schema(schema).load(\"../datasets/Asia Towers.csv\")\n",
    "csv_df.createOrReplaceTempView(\"csv_asia_towers\")\n"
   ]
  },
  {
   "cell_type": "markdown",
   "id": "8ff3da34",
   "metadata": {},
   "source": [
    "### CREATE AN ICEBERG TABLE FROM THE SQL VIEW"
   ]
  },
  {
   "cell_type": "markdown",
   "id": "d46a59bb",
   "metadata": {},
   "source": [
    "spark.sql(\"CREATE TABLE IF NOT EXISTS nessie.towers_schema.asia_towers USING iceberg AS SELECT * FROM csv_asia_towers\").show()"
   ]
  },
  {
   "cell_type": "code",
   "execution_count": 4,
   "id": "450379d7",
   "metadata": {},
   "outputs": [
    {
     "name": "stderr",
     "output_type": "stream",
     "text": [
      "SLF4J: Failed to load class \"org.slf4j.impl.StaticLoggerBinder\".\n",
      "SLF4J: Defaulting to no-operation (NOP) logger implementation\n",
      "SLF4J: See http://www.slf4j.org/codes.html#StaticLoggerBinder for further details.\n"
     ]
    },
    {
     "name": "stdout",
     "output_type": "stream",
     "text": [
      "++\n",
      "||\n",
      "++\n",
      "++\n",
      "\n"
     ]
    }
   ],
   "source": [
    "spark.sql(\"\"\"\n",
    "    CREATE TABLE IF NOT EXISTS nessie.towers_schema.asia_towers (\n",
    "        _c0 INT,\n",
    "        radio STRING,\n",
    "        MCC INT,\n",
    "        MNC INT,\n",
    "        TAC INT,\n",
    "        CID BIGINT,\n",
    "        unit INT,\n",
    "        LON DOUBLE,\n",
    "        LAT DOUBLE,\n",
    "        RANGE INT,\n",
    "        SAM INT,\n",
    "        changeable INT,\n",
    "        created BIGINT,\n",
    "        updated BIGINT,\n",
    "        averageSignal INT,\n",
    "        Country STRING,\n",
    "        Network STRING,\n",
    "        Continent STRING\n",
    "    ) \n",
    "    USING iceberg \n",
    "\"\"\").show()\n"
   ]
  },
  {
   "cell_type": "code",
   "execution_count": 5,
   "id": "8036f484",
   "metadata": {},
   "outputs": [
    {
     "name": "stderr",
     "output_type": "stream",
     "text": [
      "\r",
      "[Stage 0:>                                                         (0 + 4) / 12]\r"
     ]
    },
    {
     "name": "stdout",
     "output_type": "stream",
     "text": [
      "24/12/18 15:12:56 WARN CSVHeaderChecker: CSV header does not conform to the schema.\n",
      " Header: , radio, MCC, MNC, TAC, CID, unit, LON, LAT, RANGE, SAM, changeable, created, updated, averageSignal, Country, Network, Continent\n",
      " Schema: _c0, radio, MCC, MNC, TAC, CID, unit, LON, LAT, RANGE, SAM, changeable, created, updated, averageSignal, Country, Network, Continent\n",
      "Expected: _c0 but found: \n",
      "CSV file: file:///home/docker/datasets/Asia%20Towers.csv\n"
     ]
    },
    {
     "name": "stderr",
     "output_type": "stream",
     "text": [
      "                                                                                \r"
     ]
    },
    {
     "name": "stdout",
     "output_type": "stream",
     "text": [
      "++\n",
      "||\n",
      "++\n",
      "++\n",
      "\n"
     ]
    }
   ],
   "source": [
    "# Insert data from the temporary view into the Iceberg table\n",
    "spark.sql(\"\"\"\n",
    "    INSERT INTO nessie.towers_schema.asia_towers \n",
    "    SELECT \n",
    "        _c0,\n",
    "        radio,\n",
    "        MCC,\n",
    "        MNC,\n",
    "        TAC,\n",
    "        CID,\n",
    "        unit,\n",
    "        LON,\n",
    "        LAT,\n",
    "        RANGE,\n",
    "        SAM,\n",
    "        changeable,\n",
    "        created,\n",
    "        updated,\n",
    "        averageSignal,\n",
    "        Country,\n",
    "        Network,\n",
    "        Continent\n",
    "    FROM csv_asia_towers\n",
    "\"\"\").show()\n"
   ]
  },
  {
   "cell_type": "code",
   "execution_count": 6,
   "id": "4cda6432",
   "metadata": {},
   "outputs": [
    {
     "name": "stderr",
     "output_type": "stream",
     "text": [
      "                                                                                \r"
     ]
    },
    {
     "name": "stdout",
     "output_type": "stream",
     "text": [
      "+--------+-----+---+---+---+---------+----+--------------+---------------+-----+---+----------+----------+----------+-------------+---------+-------+---------+\n",
      "|     _c0|radio|MCC|MNC|TAC|      CID|unit|           LON|            LAT|RANGE|SAM|changeable|   created|   updated|averageSignal|  Country|Network|Continent|\n",
      "+--------+-----+---+---+---+---------+----+--------------+---------------+-----+---+----------+----------+----------+-------------+---------+-------+---------+\n",
      "|12142742|  GSM|525|  1| 63|      452|   0|    103.827896|       1.431656| 1000|  3|         1|1459692344|1487379337|            0|Singapore|SingTel|     Asia|\n",
      "|12142743| UMTS|525|  1|315| 20666852|   0|    103.625793|       1.309433| 1000|  2|         1|1370464837|1370464837|            0|Singapore|SingTel|     Asia|\n",
      "|12142744|  GSM|525|  1| 63|     5143|   0|    103.838882|       1.425247| 1000|  3|         1|1380831294|1461549037|            0|Singapore|SingTel|     Asia|\n",
      "|12142745|  GSM|525|  1| 63|     5142|   0|    103.838775|       1.416006| 1000|192|         1|1380831294|1483700507|            0|Singapore|SingTel|     Asia|\n",
      "|12142746|  GSM|525|  1| 63|     5171|   0|103.8256072998|1.4261627197266| 1000|  1|         1|1459671632|1459671632|            0|Singapore|SingTel|     Asia|\n",
      "|12142747|  LTE|525|  1|748|187778823|   0|    103.744926|       1.336899| 1000|  4|         1|1460124881|1477153870|            0|Singapore|SingTel|     Asia|\n",
      "|12142748|  GSM|525|  1| 31|    10333|   0|    103.799515|       1.334702| 8605|  5|         1|1223482635|1223482635|            0|Singapore|SingTel|     Asia|\n",
      "|12142749| UMTS|525|  1|305| 20020472|   0|    103.780203|       1.337385| 8653| 48|         1|1223482646|1223482646|            0|Singapore|SingTel|     Asia|\n",
      "|12142750| UMTS|525|  1|305| 20020471|   0|    103.779723|       1.336818| 1000| 17|         1|1223482654|1223482654|            0|Singapore|SingTel|     Asia|\n",
      "|12142751| UMTS|525|  1|305| 20020513|   0|    103.780773|       1.336818| 1000| 17|         1|1223482654|1223482654|            0|Singapore|SingTel|     Asia|\n",
      "+--------+-----+---+---+---+---------+----+--------------+---------------+-----+---+----------+----------+----------+-------------+---------+-------+---------+\n",
      "\n"
     ]
    }
   ],
   "source": [
    "## QUERY THE ICEBERG TABLE\n",
    "spark.sql(\"SELECT * FROM nessie.towers_schema.asia_towers limit 10\").show()"
   ]
  },
  {
   "cell_type": "code",
   "execution_count": 7,
   "id": "6f94e3f1",
   "metadata": {},
   "outputs": [
    {
     "name": "stderr",
     "output_type": "stream",
     "text": [
      "[Stage 4:===============================================>           (4 + 1) / 5]\r"
     ]
    },
    {
     "name": "stdout",
     "output_type": "stream",
     "text": [
      "+------------+--------------+---------+\n",
      "|     Country|       Network|AvgSignal|\n",
      "+------------+--------------+---------+\n",
      "|  East Timor| Timor Telecom|      0.0|\n",
      "|        Oman|Omantel Mobile|      0.0|\n",
      "|      Taiwan| Taiwan Mobile|      0.0|\n",
      "|        Iran|           MCI|      0.0|\n",
      "|   Indonesia|     Telkomsel|      0.0|\n",
      "|      Russia|           MTS|      0.0|\n",
      "|      Russia|         Tele2|      0.0|\n",
      "|   Indonesia|            XL|      0.0|\n",
      "|  Bangladesh|        Airtel|      0.0|\n",
      "|  Bangladesh|    Banglalink|      0.0|\n",
      "|  Kazakhstan|         Kcell|      0.0|\n",
      "|       China|  China Unicom|      0.0|\n",
      "|   Singapore|       SingTel|      0.0|\n",
      "|      Russia|       Megafon|      0.0|\n",
      "|       China|  China Mobile|      0.0|\n",
      "| Philippines|         Smart|      0.0|\n",
      "|Saudi Arabia|STC / Al Jawal|      0.0|\n",
      "|      Russia|       Beeline|      0.0|\n",
      "|    Malaysia|        Celcom|      0.0|\n",
      "|  Bangladesh|  GrameenPhone|      0.0|\n",
      "+------------+--------------+---------+\n",
      "only showing top 20 rows\n",
      "\n",
      "Execution Time: 6.97 seconds\n"
     ]
    },
    {
     "name": "stderr",
     "output_type": "stream",
     "text": [
      "\r",
      "                                                                                \r"
     ]
    }
   ],
   "source": [
    "mid_query = '''SELECT\n",
    "        Country,\n",
    "        Network,\n",
    "        AVG(averageSignal) AS AvgSignal\n",
    "    FROM nessie.towers_schema.asia_towers\n",
    "    GROUP BY Country, Network;'''\n",
    "\n",
    "start_time = time.time()\n",
    "spark.sql(mid_query).show()\n",
    "end_time = time.time()\n",
    "\n",
    "execution_time = end_time - start_time\n",
    "print(f\"Execution Time: {execution_time:.2f} seconds\")"
   ]
  },
  {
   "cell_type": "code",
   "execution_count": 8,
   "id": "c68a1640",
   "metadata": {},
   "outputs": [],
   "source": [
    "query = '''WITH AverageSignal AS (\n",
    "    SELECT\n",
    "        Country,\n",
    "        Network,\n",
    "        AVG(averageSignal) AS AvgSignal\n",
    "    FROM nessie.towers_schema.asia_towers\n",
    "    GROUP BY Country, Network\n",
    "),\n",
    "UniqueUnits AS (\n",
    "    SELECT\n",
    "        Country,\n",
    "        Network,\n",
    "        COUNT(DISTINCT unit) AS UniqueUnitCount\n",
    "    FROM nessie.towers_schema.asia_towers\n",
    "    GROUP BY Country, Network\n",
    "),\n",
    "RangeStats AS (\n",
    "    SELECT\n",
    "        Country,\n",
    "        Network,\n",
    "        MAX(RANGE) AS MaxRange,\n",
    "        MIN(RANGE) AS MinRange,\n",
    "        AVG(RANGE) AS AvgRange\n",
    "    FROM nessie.towers_schema.asia_towers\n",
    "    GROUP BY Country, Network\n",
    ")\n",
    "\n",
    "SELECT\n",
    "    a.Country,\n",
    "    a.Network,\n",
    "    a.AvgSignal,\n",
    "    u.UniqueUnitCount,\n",
    "    r.MaxRange,\n",
    "    r.MinRange,\n",
    "    r.AvgRange\n",
    "FROM AverageSignal a\n",
    "JOIN UniqueUnits u ON a.Country = u.Country AND a.Network = u.Network\n",
    "JOIN RangeStats r ON a.Country = r.Country AND a.Network = r.Network\n",
    "ORDER BY a.Country, a.Network;'''"
   ]
  },
  {
   "cell_type": "code",
   "execution_count": 9,
   "id": "c268ba54",
   "metadata": {},
   "outputs": [
    {
     "name": "stderr",
     "output_type": "stream",
     "text": [
      "                                                                                \r"
     ]
    },
    {
     "name": "stdout",
     "output_type": "stream",
     "text": [
      "+-----------+------------+---------+---------------+--------+--------+------------------+\n",
      "|    Country|     Network|AvgSignal|UniqueUnitCount|MaxRange|MinRange|          AvgRange|\n",
      "+-----------+------------+---------+---------------+--------+--------+------------------+\n",
      "|   Abkhazia|    A-Mobile|      0.0|              3|   93410|     962|1645.9551020408164|\n",
      "|   Abkhazia|     Aquafon|      0.0|             72|   28607|    1000|1365.2775800711743|\n",
      "|Afghanistan|        AWCC|      0.0|              8|   30106|     604|3147.8259242957747|\n",
      "|Afghanistan|    Etisalat|      0.0|              7|    9575|     611| 1045.543431750107|\n",
      "|Afghanistan|         MTN|      0.0|              2|   11542|     368| 1125.530731707317|\n",
      "|Afghanistan|    Mobifone|      0.0|             43|   12434|    1000|            1598.5|\n",
      "|Afghanistan|      Roshan|      0.0|              2|   15803|     500|1560.7526981190256|\n",
      "|    Bahrain|     Batelco|      0.0|              2|   21567|    1000|1416.4400908574673|\n",
      "|    Bahrain|        VIVA|      0.0|             12|   17970|     500|1251.8612508200306|\n",
      "|    Bahrain|        Zain|      0.0|              2|   26793|     500|1268.9068157614483|\n",
      "| Bangladesh|      Airtel|      0.0|            330|   70995|     500| 1058.100994135972|\n",
      "| Bangladesh|  Banglalink|      0.0|             23|   67435|     500|1096.7203058900097|\n",
      "| Bangladesh|GrameenPhone|      0.0|            146|   92262|     500|1073.8800356792958|\n",
      "| Bangladesh|    TeleTalk|      0.0|            355|   54807|     500|1172.0995063652897|\n",
      "|     Bhutan|    B-Mobile|      0.0|              1|    7110|    1000|1172.8147651006711|\n",
      "|     Bhutan|   TashiCell|      0.0|              1|   10382|    1000|1237.3625730994152|\n",
      "|     Brunei|    B-Mobile|      0.0|              2|   12206|     500|1073.6340310600945|\n",
      "|     Brunei|         DST|      0.0|             65|   46032|     352|1275.8239709443098|\n",
      "|   Cambodia|    Cellcard|      0.0|              4|   75708|     500|1137.1447910940076|\n",
      "|   Cambodia|     Metfone|      0.0|              2|  186008|     500|1328.4374067318852|\n",
      "+-----------+------------+---------+---------------+--------+--------+------------------+\n",
      "only showing top 20 rows\n",
      "\n",
      "Execution Time: 19.00 seconds\n"
     ]
    }
   ],
   "source": [
    "start_time = time.time()\n",
    "spark.sql(query).show()\n",
    "end_time = time.time()\n",
    "\n",
    "execution_time = end_time - start_time\n",
    "print(f\"Execution Time: {execution_time:.2f} seconds\")"
   ]
  },
  {
   "cell_type": "markdown",
   "id": "0e1bd7a7",
   "metadata": {},
   "source": [
    "### CREATE PARTITIONED TABLE FROM THE SQL VIEW"
   ]
  },
  {
   "cell_type": "markdown",
   "id": "2357baad",
   "metadata": {},
   "source": [
    "spark.sql(\"\"\"\n",
    "    CREATE TABLE IF NOT EXISTS nessie.towers_schema.asia_towers_partitioned\n",
    "    USING iceberg \n",
    "    PARTITIONED BY (Country, Network) \n",
    "    AS \n",
    "    SELECT * \n",
    "    FROM csv_asia_towers\n",
    "    ORDER BY Country, Network\n",
    "\"\"\").show()"
   ]
  },
  {
   "cell_type": "code",
   "execution_count": 10,
   "id": "001b5333",
   "metadata": {},
   "outputs": [
    {
     "name": "stdout",
     "output_type": "stream",
     "text": [
      "++\n",
      "||\n",
      "++\n",
      "++\n",
      "\n"
     ]
    }
   ],
   "source": [
    "spark.sql(\"\"\"\n",
    "    CREATE TABLE IF NOT EXISTS nessie.towers_schema.asia_towers_partitioned (\n",
    "        _c0 INT,\n",
    "        radio STRING,\n",
    "        MCC INT,\n",
    "        MNC INT,\n",
    "        TAC INT,\n",
    "        CID BIGINT,\n",
    "        unit INT,\n",
    "        LON DOUBLE,\n",
    "        LAT DOUBLE,\n",
    "        RANGE INT,\n",
    "        SAM INT,\n",
    "        changeable INT,\n",
    "        created BIGINT,\n",
    "        updated BIGINT,\n",
    "        averageSignal INT,\n",
    "        Country STRING,\n",
    "        Network STRING,\n",
    "        Continent STRING\n",
    "    ) \n",
    "    USING iceberg \n",
    "    PARTITIONED BY (Country, Network) \n",
    "\"\"\").show()\n"
   ]
  },
  {
   "cell_type": "code",
   "execution_count": 11,
   "id": "11fb0143",
   "metadata": {},
   "outputs": [
    {
     "name": "stdout",
     "output_type": "stream",
     "text": [
      "24/12/18 15:14:25 WARN CSVHeaderChecker: CSV header does not conform to the schema.\n",
      " Header: , radio, MCC, MNC, TAC, CID, unit, LON, LAT, RANGE, SAM, changeable, created, updated, averageSignal, Country, Network, Continent\n",
      " Schema: _c0, radio, MCC, MNC, TAC, CID, unit, LON, LAT, RANGE, SAM, changeable, created, updated, averageSignal, Country, Network, Continent\n",
      "Expected: _c0 but found: \n",
      "CSV file: file:///home/docker/datasets/Asia%20Towers.csv\n"
     ]
    },
    {
     "name": "stderr",
     "output_type": "stream",
     "text": [
      "                                                                                \r"
     ]
    },
    {
     "name": "stdout",
     "output_type": "stream",
     "text": [
      "++\n",
      "||\n",
      "++\n",
      "++\n",
      "\n"
     ]
    }
   ],
   "source": [
    "spark.sql(\"\"\"\n",
    "    INSERT INTO nessie.towers_schema.asia_towers_partitioned\n",
    "    SELECT \n",
    "        _c0,\n",
    "        radio,\n",
    "        MCC,\n",
    "        MNC,\n",
    "        TAC,\n",
    "        CID,\n",
    "        unit,\n",
    "        LON,\n",
    "        LAT,\n",
    "        RANGE,\n",
    "        SAM,\n",
    "        changeable,\n",
    "        created,\n",
    "        updated,\n",
    "        averageSignal,\n",
    "        Country,\n",
    "        Network,\n",
    "        Continent\n",
    "    FROM csv_asia_towers\n",
    "\"\"\").show()\n"
   ]
  },
  {
   "cell_type": "code",
   "execution_count": 12,
   "id": "70df5687",
   "metadata": {},
   "outputs": [
    {
     "name": "stderr",
     "output_type": "stream",
     "text": [
      "[Stage 22:====================================================>   (13 + 1) / 14]\r"
     ]
    },
    {
     "name": "stdout",
     "output_type": "stream",
     "text": [
      "+---------+----------------+---------+\n",
      "|  Country|         Network|AvgSignal|\n",
      "+---------+----------------+---------+\n",
      "|   Russia|      SEVTELECOM|      0.0|\n",
      "|Singapore|     TPG Telecom|      0.0|\n",
      "|   Israel|        YouPhone|      0.0|\n",
      "|     Iran|        Telekish|      0.0|\n",
      "|   Jordan|          Orange|      0.0|\n",
      "|   Russia|           Motiv|      0.0|\n",
      "|   Israel|      Hot Mobile|      0.0|\n",
      "| Cambodia|        Cellcard|      0.0|\n",
      "|   Russia|         Skylink|      0.0|\n",
      "|    Japan|            KDDI|      0.0|\n",
      "|   Russia|     Krymtelecom|      0.0|\n",
      "|   Taiwan|Chunghwa Telecom|      0.0|\n",
      "|Indonesia|       Telkomsel|      0.0|\n",
      "|    Macao|   China Telecom|      0.0|\n",
      "| Mongolia|          Unitel|      0.0|\n",
      "|     Iran|          Taliya|      0.0|\n",
      "|Singapore|              M1|      0.0|\n",
      "|Hong Kong|SUN Mobile / CSL|      0.0|\n",
      "|    Nepal|           Smart|      0.0|\n",
      "|    China|   China Telecom|      0.0|\n",
      "+---------+----------------+---------+\n",
      "only showing top 20 rows\n",
      "\n",
      "Execution Time: 6.13 seconds\n"
     ]
    },
    {
     "name": "stderr",
     "output_type": "stream",
     "text": [
      "\r",
      "                                                                                \r"
     ]
    }
   ],
   "source": [
    "mid_query = '''SELECT\n",
    "        Country,\n",
    "        Network,\n",
    "        AVG(averageSignal) AS AvgSignal\n",
    "    FROM nessie.towers_schema.asia_towers_partitioned\n",
    "    GROUP BY Country, Network;'''\n",
    "\n",
    "start_time = time.time()\n",
    "spark.sql(mid_query).show()\n",
    "end_time = time.time()\n",
    "\n",
    "execution_time = end_time - start_time\n",
    "print(f\"Execution Time: {execution_time:.2f} seconds\")"
   ]
  },
  {
   "cell_type": "code",
   "execution_count": 13,
   "id": "a0fa7fd4",
   "metadata": {},
   "outputs": [],
   "source": [
    "query_on_partitioned_table = '''WITH AverageSignal AS (\n",
    "    SELECT\n",
    "        Country,\n",
    "        Network,\n",
    "        AVG(averageSignal) AS AvgSignal\n",
    "    FROM nessie.towers_schema.asia_towers_partitioned\n",
    "    GROUP BY Country, Network\n",
    "),\n",
    "UniqueUnits AS (\n",
    "    SELECT\n",
    "        Country,\n",
    "        Network,\n",
    "        COUNT(DISTINCT unit) AS UniqueUnitCount\n",
    "    FROM nessie.towers_schema.asia_towers_partitioned\n",
    "    GROUP BY Country, Network\n",
    "),\n",
    "RangeStats AS (\n",
    "    SELECT\n",
    "        Country,\n",
    "        Network,\n",
    "        MAX(RANGE) AS MaxRange,\n",
    "        MIN(RANGE) AS MinRange,\n",
    "        AVG(RANGE) AS AvgRange\n",
    "    FROM nessie.towers_schema.asia_towers_partitioned\n",
    "    GROUP BY Country, Network\n",
    ")\n",
    "\n",
    "SELECT\n",
    "    a.Country,\n",
    "    a.Network,\n",
    "    a.AvgSignal,\n",
    "    u.UniqueUnitCount,\n",
    "    r.MaxRange,\n",
    "    r.MinRange,\n",
    "    r.AvgRange\n",
    "FROM AverageSignal a\n",
    "JOIN UniqueUnits u ON a.Country = u.Country AND a.Network = u.Network\n",
    "JOIN RangeStats r ON a.Country = r.Country AND a.Network = r.Network\n",
    "ORDER BY a.Country, a.Network;'''"
   ]
  },
  {
   "cell_type": "code",
   "execution_count": 14,
   "id": "21b2b455",
   "metadata": {},
   "outputs": [
    {
     "name": "stderr",
     "output_type": "stream",
     "text": [
      "[Stage 27:====================================================>   (13 + 1) / 14]\r"
     ]
    },
    {
     "name": "stdout",
     "output_type": "stream",
     "text": [
      "+-----------+------------+---------+---------------+--------+--------+------------------+\n",
      "|    Country|     Network|AvgSignal|UniqueUnitCount|MaxRange|MinRange|          AvgRange|\n",
      "+-----------+------------+---------+---------------+--------+--------+------------------+\n",
      "|   Abkhazia|    A-Mobile|      0.0|              3|   93410|     962|1645.9551020408164|\n",
      "|   Abkhazia|     Aquafon|      0.0|             72|   28607|    1000|1365.2775800711743|\n",
      "|Afghanistan|        AWCC|      0.0|              8|   30106|     604|3147.8259242957747|\n",
      "|Afghanistan|    Etisalat|      0.0|              7|    9575|     611| 1045.543431750107|\n",
      "|Afghanistan|         MTN|      0.0|              2|   11542|     368| 1125.530731707317|\n",
      "|Afghanistan|    Mobifone|      0.0|             43|   12434|    1000|            1598.5|\n",
      "|Afghanistan|      Roshan|      0.0|              2|   15803|     500|1560.7526981190256|\n",
      "|    Bahrain|     Batelco|      0.0|              2|   21567|    1000|1416.4400908574673|\n",
      "|    Bahrain|        VIVA|      0.0|             12|   17970|     500|1251.8612508200306|\n",
      "|    Bahrain|        Zain|      0.0|              2|   26793|     500|1268.9068157614483|\n",
      "| Bangladesh|      Airtel|      0.0|            330|   70995|     500| 1058.100994135972|\n",
      "| Bangladesh|  Banglalink|      0.0|             23|   67435|     500|1096.7203058900097|\n",
      "| Bangladesh|GrameenPhone|      0.0|            146|   92262|     500|1073.8800356792958|\n",
      "| Bangladesh|    TeleTalk|      0.0|            355|   54807|     500|1172.0995063652897|\n",
      "|     Bhutan|    B-Mobile|      0.0|              1|    7110|    1000|1172.8147651006711|\n",
      "|     Bhutan|   TashiCell|      0.0|              1|   10382|    1000|1237.3625730994152|\n",
      "|     Brunei|    B-Mobile|      0.0|              2|   12206|     500|1073.6340310600945|\n",
      "|     Brunei|         DST|      0.0|             65|   46032|     352|1275.8239709443098|\n",
      "|   Cambodia|    Cellcard|      0.0|              4|   75708|     500|1137.1447910940076|\n",
      "|   Cambodia|     Metfone|      0.0|              2|  186008|     500|1328.4374067318852|\n",
      "+-----------+------------+---------+---------------+--------+--------+------------------+\n",
      "only showing top 20 rows\n",
      "\n",
      "Execution Time: 15.26 seconds\n"
     ]
    },
    {
     "name": "stderr",
     "output_type": "stream",
     "text": [
      "\r",
      "                                                                                \r"
     ]
    }
   ],
   "source": [
    "start_time = time.time()\n",
    "spark.sql(query_on_partitioned_table).show()\n",
    "end_time = time.time()\n",
    "\n",
    "execution_time = end_time - start_time\n",
    "print(f\"Execution Time: {execution_time:.2f} seconds\")"
   ]
  },
  {
   "cell_type": "code",
   "execution_count": null,
   "id": "2cfdff4d",
   "metadata": {},
   "outputs": [],
   "source": []
  }
 ],
 "metadata": {
  "kernelspec": {
   "display_name": "Python 3 (ipykernel)",
   "language": "python",
   "name": "python3"
  },
  "language_info": {
   "codemirror_mode": {
    "name": "ipython",
    "version": 3
   },
   "file_extension": ".py",
   "mimetype": "text/x-python",
   "name": "python",
   "nbconvert_exporter": "python",
   "pygments_lexer": "ipython3",
   "version": "3.10.6"
  }
 },
 "nbformat": 4,
 "nbformat_minor": 5
}
