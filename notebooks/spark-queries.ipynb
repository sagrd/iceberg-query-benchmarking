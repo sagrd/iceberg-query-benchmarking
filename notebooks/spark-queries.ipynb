{
 "cells": [
  {
   "cell_type": "code",
   "execution_count": 1,
   "id": "98250ad5",
   "metadata": {},
   "outputs": [
    {
     "name": "stdout",
     "output_type": "stream",
     "text": [
      ":: loading settings :: url = jar:file:/home/docker/.local/lib/python3.10/site-packages/pyspark/jars/ivy-2.5.0.jar!/org/apache/ivy/core/settings/ivysettings.xml\n"
     ]
    },
    {
     "name": "stderr",
     "output_type": "stream",
     "text": [
      "Ivy Default Cache set to: /home/docker/.ivy2/cache\n",
      "The jars for the packages stored in: /home/docker/.ivy2/jars\n",
      "org.apache.iceberg#iceberg-spark-runtime-3.3_2.12 added as a dependency\n",
      "org.projectnessie.nessie-integrations#nessie-spark-extensions-3.3_2.12 added as a dependency\n",
      "software.amazon.awssdk#bundle added as a dependency\n",
      "software.amazon.awssdk#url-connection-client added as a dependency\n",
      ":: resolving dependencies :: org.apache.spark#spark-submit-parent-d40033f2-7117-4320-aad0-7710b037020e;1.0\n",
      "\tconfs: [default]\n",
      "\tfound org.apache.iceberg#iceberg-spark-runtime-3.3_2.12;1.3.1 in central\n",
      "\tfound org.projectnessie.nessie-integrations#nessie-spark-extensions-3.3_2.12;0.67.0 in central\n",
      "\tfound software.amazon.awssdk#bundle;2.17.178 in central\n",
      "\tfound software.amazon.eventstream#eventstream;1.0.1 in central\n",
      "\tfound software.amazon.awssdk#url-connection-client;2.17.178 in central\n",
      "\tfound software.amazon.awssdk#utils;2.17.178 in central\n",
      "\tfound org.reactivestreams#reactive-streams;1.0.3 in central\n",
      "\tfound software.amazon.awssdk#annotations;2.17.178 in central\n",
      "\tfound org.slf4j#slf4j-api;1.7.30 in central\n",
      "\tfound software.amazon.awssdk#http-client-spi;2.17.178 in central\n",
      "\tfound software.amazon.awssdk#metrics-spi;2.17.178 in central\n",
      "downloading https://repo1.maven.org/maven2/org/apache/iceberg/iceberg-spark-runtime-3.3_2.12/1.3.1/iceberg-spark-runtime-3.3_2.12-1.3.1.jar ...\n",
      "\t[SUCCESSFUL ] org.apache.iceberg#iceberg-spark-runtime-3.3_2.12;1.3.1!iceberg-spark-runtime-3.3_2.12.jar (2845ms)\n",
      "downloading https://repo1.maven.org/maven2/org/projectnessie/nessie-integrations/nessie-spark-extensions-3.3_2.12/0.67.0/nessie-spark-extensions-3.3_2.12-0.67.0.jar ...\n",
      "\t[SUCCESSFUL ] org.projectnessie.nessie-integrations#nessie-spark-extensions-3.3_2.12;0.67.0!nessie-spark-extensions-3.3_2.12.jar (497ms)\n",
      "downloading https://repo1.maven.org/maven2/software/amazon/awssdk/bundle/2.17.178/bundle-2.17.178.jar ...\n",
      "\t[SUCCESSFUL ] software.amazon.awssdk#bundle;2.17.178!bundle.jar (17774ms)\n",
      "downloading https://repo1.maven.org/maven2/software/amazon/awssdk/url-connection-client/2.17.178/url-connection-client-2.17.178.jar ...\n",
      "\t[SUCCESSFUL ] software.amazon.awssdk#url-connection-client;2.17.178!url-connection-client.jar (431ms)\n",
      "downloading https://repo1.maven.org/maven2/software/amazon/eventstream/eventstream/1.0.1/eventstream-1.0.1.jar ...\n",
      "\t[SUCCESSFUL ] software.amazon.eventstream#eventstream;1.0.1!eventstream.jar (422ms)\n",
      "downloading https://repo1.maven.org/maven2/software/amazon/awssdk/utils/2.17.178/utils-2.17.178.jar ...\n",
      "\t[SUCCESSFUL ] software.amazon.awssdk#utils;2.17.178!utils.jar (419ms)\n",
      "downloading https://repo1.maven.org/maven2/software/amazon/awssdk/annotations/2.17.178/annotations-2.17.178.jar ...\n",
      "\t[SUCCESSFUL ] software.amazon.awssdk#annotations;2.17.178!annotations.jar (407ms)\n",
      "downloading https://repo1.maven.org/maven2/software/amazon/awssdk/http-client-spi/2.17.178/http-client-spi-2.17.178.jar ...\n",
      "\t[SUCCESSFUL ] software.amazon.awssdk#http-client-spi;2.17.178!http-client-spi.jar (414ms)\n",
      "downloading https://repo1.maven.org/maven2/org/reactivestreams/reactive-streams/1.0.3/reactive-streams-1.0.3.jar ...\n",
      "\t[SUCCESSFUL ] org.reactivestreams#reactive-streams;1.0.3!reactive-streams.jar (399ms)\n",
      "downloading https://repo1.maven.org/maven2/org/slf4j/slf4j-api/1.7.30/slf4j-api-1.7.30.jar ...\n",
      "\t[SUCCESSFUL ] org.slf4j#slf4j-api;1.7.30!slf4j-api.jar (399ms)\n",
      "downloading https://repo1.maven.org/maven2/software/amazon/awssdk/metrics-spi/2.17.178/metrics-spi-2.17.178.jar ...\n",
      "\t[SUCCESSFUL ] software.amazon.awssdk#metrics-spi;2.17.178!metrics-spi.jar (464ms)\n",
      ":: resolution report :: resolve 17155ms :: artifacts dl 24604ms\n",
      "\t:: modules in use:\n",
      "\torg.apache.iceberg#iceberg-spark-runtime-3.3_2.12;1.3.1 from central in [default]\n",
      "\torg.projectnessie.nessie-integrations#nessie-spark-extensions-3.3_2.12;0.67.0 from central in [default]\n",
      "\torg.reactivestreams#reactive-streams;1.0.3 from central in [default]\n",
      "\torg.slf4j#slf4j-api;1.7.30 from central in [default]\n",
      "\tsoftware.amazon.awssdk#annotations;2.17.178 from central in [default]\n",
      "\tsoftware.amazon.awssdk#bundle;2.17.178 from central in [default]\n",
      "\tsoftware.amazon.awssdk#http-client-spi;2.17.178 from central in [default]\n",
      "\tsoftware.amazon.awssdk#metrics-spi;2.17.178 from central in [default]\n",
      "\tsoftware.amazon.awssdk#url-connection-client;2.17.178 from central in [default]\n",
      "\tsoftware.amazon.awssdk#utils;2.17.178 from central in [default]\n",
      "\tsoftware.amazon.eventstream#eventstream;1.0.1 from central in [default]\n",
      "\t---------------------------------------------------------------------\n",
      "\t|                  |            modules            ||   artifacts   |\n",
      "\t|       conf       | number| search|dwnlded|evicted|| number|dwnlded|\n",
      "\t---------------------------------------------------------------------\n",
      "\t|      default     |   11  |   11  |   11  |   0   ||   11  |   11  |\n",
      "\t---------------------------------------------------------------------\n",
      ":: retrieving :: org.apache.spark#spark-submit-parent-d40033f2-7117-4320-aad0-7710b037020e\n",
      "\tconfs: [default]\n",
      "\t11 artifacts copied, 0 already retrieved (367715kB/1331ms)\n"
     ]
    },
    {
     "name": "stdout",
     "output_type": "stream",
     "text": [
      "24/12/18 11:58:24 WARN NativeCodeLoader: Unable to load native-hadoop library for your platform... using builtin-java classes where applicable\n"
     ]
    },
    {
     "name": "stderr",
     "output_type": "stream",
     "text": [
      "Setting default log level to \"WARN\".\n",
      "To adjust logging level use sc.setLogLevel(newLevel). For SparkR, use setLogLevel(newLevel).\n"
     ]
    },
    {
     "name": "stdout",
     "output_type": "stream",
     "text": [
      "Spark Running\n"
     ]
    }
   ],
   "source": [
    "import pyspark\n",
    "import pyspark\n",
    "from pyspark.sql import SparkSession\n",
    "import os\n",
    "\n",
    "## DEFINE SENSITIVE VARIABLES\n",
    "NESSIE_URI = \"http://nessie:19120/api/v1\"\n",
    "MINIO_ACCESS_KEY = \"admin\"\n",
    "MINIO_SECRET_KEY = \"password\"\n",
    "\n",
    "conf = (\n",
    "    pyspark.SparkConf()\n",
    "        .setAppName('app_name')\n",
    "  \t\t#packages\n",
    "        .set('spark.jars.packages', 'org.apache.iceberg:iceberg-spark-runtime-3.3_2.12:1.3.1,org.projectnessie.nessie-integrations:nessie-spark-extensions-3.3_2.12:0.67.0,software.amazon.awssdk:bundle:2.17.178,software.amazon.awssdk:url-connection-client:2.17.178')\n",
    "  \t\t#SQL Extensions\n",
    "        .set('spark.sql.extensions', 'org.apache.iceberg.spark.extensions.IcebergSparkSessionExtensions,org.projectnessie.spark.extensions.NessieSparkSessionExtensions')\n",
    "  \t\t#Configuring Catalog\n",
    "        .set('spark.sql.catalog.nessie', 'org.apache.iceberg.spark.SparkCatalog')\n",
    "        .set('spark.sql.catalog.nessie.uri', NESSIE_URI)\n",
    "        .set('spark.sql.catalog.nessie.ref', 'main')\n",
    "        .set('spark.sql.catalog.nessie.authentication.type', 'NONE')\n",
    "        .set('spark.sql.catalog.nessie.catalog-impl', 'org.apache.iceberg.nessie.NessieCatalog')\n",
    "        .set('spark.sql.catalog.nessie.warehouse', 's3a://warehouse')\n",
    "        .set('spark.sql.catalog.nessie.s3.endpoint', 'http://minio:9000')\n",
    "        .set('spark.sql.catalog.nessie.io-impl', 'org.apache.iceberg.aws.s3.S3FileIO')\n",
    "  \t\t#MINIO CREDENTIALS\n",
    "        .set('spark.hadoop.fs.s3a.access.key', MINIO_ACCESS_KEY)\n",
    "        .set('spark.hadoop.fs.s3a.secret.key', MINIO_SECRET_KEY)\n",
    ")\n",
    "\n",
    "## Start Spark Session\n",
    "spark = SparkSession.builder.config(conf=conf).getOrCreate()\n",
    "print(\"Spark Running\")\n"
   ]
  },
  {
   "cell_type": "code",
   "execution_count": 9,
   "id": "b8b3592c",
   "metadata": {},
   "outputs": [
    {
     "data": {
      "text/plain": [
       "DataFrame[]"
      ]
     },
     "execution_count": 9,
     "metadata": {},
     "output_type": "execute_result"
    }
   ],
   "source": [
    "spark.sql(\"CREATE DATABASE IF NOT EXISTS nessie.towers_schema;\")"
   ]
  },
  {
   "cell_type": "code",
   "execution_count": null,
   "id": "34918fe1",
   "metadata": {},
   "outputs": [],
   "source": []
  },
  {
   "cell_type": "code",
   "execution_count": 10,
   "id": "c1145998",
   "metadata": {},
   "outputs": [
    {
     "name": "stderr",
     "output_type": "stream",
     "text": [
      "                                                                                \r"
     ]
    },
    {
     "name": "stdout",
     "output_type": "stream",
     "text": [
      "++\n",
      "||\n",
      "++\n",
      "++\n",
      "\n"
     ]
    }
   ],
   "source": [
    "\n",
    "## LOAD A CSV INTO AN SQL VIEW\n",
    "csv_df = spark.read.format(\"csv\").option(\"header\", \"true\").load(\"../datasets/asia_towers_condensed.csv\")\n",
    "csv_df.createOrReplaceTempView(\"csv_asia_towers\")\n",
    "\n",
    "## CREATE AN ICEBERG TABLE FROM THE SQL VIEW\n",
    "spark.sql(\"CREATE TABLE IF NOT EXISTS nessie.towers_schema.asia_towers USING iceberg AS SELECT * FROM csv_asia_towers\").show()\n",
    "\n"
   ]
  },
  {
   "cell_type": "code",
   "execution_count": 11,
   "id": "1096c4db",
   "metadata": {},
   "outputs": [
    {
     "name": "stdout",
     "output_type": "stream",
     "text": [
      "+-------+\n",
      "|catalog|\n",
      "+-------+\n",
      "| nessie|\n",
      "+-------+\n",
      "\n"
     ]
    }
   ],
   "source": [
    "spark.sql(\"SHOW CATALOGS\").show()\n"
   ]
  },
  {
   "cell_type": "code",
   "execution_count": 12,
   "id": "4cda6432",
   "metadata": {},
   "outputs": [
    {
     "name": "stdout",
     "output_type": "stream",
     "text": [
      "+--------+-----+---+---+---+---------+----+--------------+---------------+-----+---+----------+----------+----------+-------------+---------+-------+---------+\n",
      "|   index|radio|MCC|MNC|TAC|      CID|unit|           LON|            LAT|RANGE|SAM|changeable|   created|   updated|averageSignal|  Country|Network|Continent|\n",
      "+--------+-----+---+---+---+---------+----+--------------+---------------+-----+---+----------+----------+----------+-------------+---------+-------+---------+\n",
      "|12142742|  GSM|525|  1| 63|      452|   0|    103.827896|       1.431656| 1000|  3|         1|1459692344|1487379337|            0|Singapore|SingTel|     Asia|\n",
      "|12142743| UMTS|525|  1|315| 20666852|   0|    103.625793|       1.309433| 1000|  2|         1|1370464837|1370464837|            0|Singapore|SingTel|     Asia|\n",
      "|12142744|  GSM|525|  1| 63|     5143|   0|    103.838882|       1.425247| 1000|  3|         1|1380831294|1461549037|            0|Singapore|SingTel|     Asia|\n",
      "|12142745|  GSM|525|  1| 63|     5142|   0|    103.838775|       1.416006| 1000|192|         1|1380831294|1483700507|            0|Singapore|SingTel|     Asia|\n",
      "|12142746|  GSM|525|  1| 63|     5171|   0|103.8256072998|1.4261627197266| 1000|  1|         1|1459671632|1459671632|            0|Singapore|SingTel|     Asia|\n",
      "|12142747|  LTE|525|  1|748|187778823|   0|    103.744926|       1.336899| 1000|  4|         1|1460124881|1477153870|            0|Singapore|SingTel|     Asia|\n",
      "|12142748|  GSM|525|  1| 31|    10333|   0|    103.799515|       1.334702| 8605|  5|         1|1223482635|1223482635|            0|Singapore|SingTel|     Asia|\n",
      "|12142749| UMTS|525|  1|305| 20020472|   0|    103.780203|       1.337385| 8653| 48|         1|1223482646|1223482646|            0|Singapore|SingTel|     Asia|\n",
      "|12142750| UMTS|525|  1|305| 20020471|   0|    103.779723|       1.336818| 1000| 17|         1|1223482654|1223482654|            0|Singapore|SingTel|     Asia|\n",
      "|12142751| UMTS|525|  1|305| 20020513|   0|    103.780773|       1.336818| 1000| 17|         1|1223482654|1223482654|            0|Singapore|SingTel|     Asia|\n",
      "+--------+-----+---+---+---+---------+----+--------------+---------------+-----+---+----------+----------+----------+-------------+---------+-------+---------+\n",
      "\n"
     ]
    },
    {
     "name": "stderr",
     "output_type": "stream",
     "text": [
      "\r",
      "[Stage 9:>                                                          (0 + 1) / 1]\r",
      "\r",
      "                                                                                \r"
     ]
    }
   ],
   "source": [
    "## QUERY THE ICEBERG TABLE\n",
    "spark.sql(\"SELECT * FROM nessie.towers_schema.asia_towers limit 10\").show()"
   ]
  },
  {
   "cell_type": "code",
   "execution_count": null,
   "id": "b40c1b48",
   "metadata": {},
   "outputs": [],
   "source": [
    "## QUERY THE ICEBERG TABLE\n",
    "spark.sql(\"SELECT * FROM nessie.df_open_2023_lesson2 limit 10\").show()\n",
    "\n",
    "## QUERY THE COUNT OF ENTRIES\n",
    "spark.sql(\"SELECT Count(*) as Total FROM nessie.df_open_2023_lesson2\").show()\n",
    "\n",
    "## CREATE A BRANCH WITH NESSIE\n",
    "spark.sql(\"CREATE BRANCH IF NOT EXISTS lesson2 IN nessie\")\n",
    "\n",
    "## SWTICH TO THE NEW BRANCH\n",
    "spark.sql(\"USE REFERENCE lesson2 IN nessie\")\n",
    "\n",
    "## DELETE ALL RECORDS WHERE countryOfOriginCode = 'FR'\n",
    "spark.sql(\"DELETE FROM nessie.df_open_2023_lesson2 WHERE countryOfOriginCode = 'FR'\")\n",
    "\n",
    "## QUERY THE COUNT OF ENTRIES\n",
    "spark.sql(\"SELECT Count(*) as Total FROM nessie.df_open_2023_lesson2\").show()\n",
    "\n",
    "## SWITCH BACK TO MAIN BRANCH\n",
    "spark.sql(\"USE REFERENCE main IN nessie\")\n",
    "\n",
    "## QUERY THE COUNT OF ENTRIES\n",
    "spark.sql(\"SELECT Count(*) as Total FROM nessie.df_open_2023_lesson2\").show()\n",
    "\n",
    "## MERGE THE CHANGES\n",
    "spark.sql(\"MERGE BRANCH lesson2 INTO main IN nessie\")\n",
    "\n",
    "## QUERY THE COUNT OF ENTRIES\n",
    "spark.sql(\"SELECT Count(*) as Total FROM nessie.df_open_2023_lesson2\").show()"
   ]
  },
  {
   "cell_type": "code",
   "execution_count": null,
   "id": "c268ba54",
   "metadata": {},
   "outputs": [],
   "source": []
  }
 ],
 "metadata": {
  "kernelspec": {
   "display_name": "Python 3 (ipykernel)",
   "language": "python",
   "name": "python3"
  },
  "language_info": {
   "codemirror_mode": {
    "name": "ipython",
    "version": 3
   },
   "file_extension": ".py",
   "mimetype": "text/x-python",
   "name": "python",
   "nbconvert_exporter": "python",
   "pygments_lexer": "ipython3",
   "version": "3.10.6"
  }
 },
 "nbformat": 4,
 "nbformat_minor": 5
}
